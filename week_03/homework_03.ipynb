{
 "cells": [
  {
   "attachments": {},
   "cell_type": "markdown",
   "metadata": {},
   "source": [
    "## Детектирование аномалий: лабораторная работа \n",
    "#### Имя Фамилия, группа"
   ]
  },
  {
   "attachments": {},
   "cell_type": "markdown",
   "metadata": {},
   "source": [
    "#### Задание 1: робастная линейная регрессия\n",
    "\n",
    "Для вас сгенерировали данные с аномалиями!"
   ]
  },
  {
   "cell_type": "code",
   "execution_count": 1,
   "metadata": {},
   "outputs": [],
   "source": [
    "import numpy as np\n",
    "from matplotlib import pyplot as plt\n",
    "\n",
    "from sklearn import linear_model, datasets\n",
    "\n",
    "\n",
    "n_samples = 1000\n",
    "n_outliers = 50\n",
    "\n",
    "\n",
    "X, y, coef = datasets.make_regression(\n",
    "    n_samples=n_samples,\n",
    "    n_features=1,\n",
    "    n_informative=1,\n",
    "    noise=10,\n",
    "    coef=True,\n",
    "    random_state=0,\n",
    ")\n",
    "\n",
    "# Add outlier data\n",
    "np.random.seed(0)\n",
    "X[:n_outliers] = 3 + 0.5 * np.random.normal(size=(n_outliers, 1))\n",
    "y[:n_outliers] = -3 + 10 * np.random.normal(size=n_outliers)"
   ]
  },
  {
   "attachments": {},
   "cell_type": "markdown",
   "metadata": {},
   "source": [
    "1.1 (1 балл) Обучите на всех данных обыкновенную линейную регрессию\n",
    "\n",
    "1.2 (1 балл) Обучите на всех данных робастную регрессию Хьюбера\n",
    "\n",
    "1.3 (1 балл) Обучите на всех данных робастную RANSAC-регрессию\n",
    "\n",
    "1.4 (1 балл) С помощью робастной регрессии выделите аномальные объекты, визуализируйте результат"
   ]
  },
  {
   "attachments": {},
   "cell_type": "markdown",
   "metadata": {},
   "source": [
    "#### Задание 2. Isolation forest, One-class SVM\n",
    "\n",
    "Детектирование аномалий в данных транзакций кредитных карт"
   ]
  },
  {
   "cell_type": "code",
   "execution_count": 1,
   "metadata": {},
   "outputs": [],
   "source": [
    "import pandas as pd\n",
    "import numpy as np\n",
    "from sklearn.ensemble import IsolationForest\n",
    "\n",
    "data = pd.read_csv('creditcard.csv')\n",
    "data = data.drop(['Time'] , axis=1)\n",
    "\n",
    "outliers = data.loc[data['Class']==1]\n",
    "normal = data.loc[data['Class']==0]\n",
    "\n",
    "outliers = outliers.drop(['Class'] , axis=1)\n",
    "normal = normal.drop(['Class'] , axis=1)\n",
    "\n",
    "X_train = np.array(normal.iloc[0:142403,:])\n",
    "X_dev = np.array(normal.iloc[142403:,:])\n",
    "X_test = np.array(outliers)"
   ]
  },
  {
   "attachments": {},
   "cell_type": "markdown",
   "metadata": {},
   "source": [
    "2.1 (1 балл) Используйте метод IsolationForest для детектирования аномалий в датасете creditcard.\n",
    "\n",
    "2.2 (1 балл) Предложите метрику качества для задачи детектирования аномалий на этом датасете. Обоснуйте ваш выбор.\n",
    "\n",
    "2.3 (1 балл) Используйте метод One-class SVM для детектирования аномалий в датасете creditcard. Можно воспользоваться частью датасета для обучения\n",
    "\n",
    "2.4 (1 балл) Сравните результаты методов IsolationForest и One-class SVM. Какой лучше? Какой быстрее? Объясните ваши наблюдения"
   ]
  }
 ],
 "metadata": {
  "kernelspec": {
   "display_name": "ismir2023 (python 3.9)",
   "language": "python",
   "name": "ismir2023"
  },
  "language_info": {
   "codemirror_mode": {
    "name": "ipython",
    "version": 3
   },
   "file_extension": ".py",
   "mimetype": "text/x-python",
   "name": "python",
   "nbconvert_exporter": "python",
   "pygments_lexer": "ipython3",
   "version": "3.9.15"
  },
  "orig_nbformat": 4,
  "vscode": {
   "interpreter": {
    "hash": "31f2aee4e71d21fbe5cf8b01ff0e069b9275f58929596ceb00d14d90e3e16cd6"
   }
  }
 },
 "nbformat": 4,
 "nbformat_minor": 2
}
