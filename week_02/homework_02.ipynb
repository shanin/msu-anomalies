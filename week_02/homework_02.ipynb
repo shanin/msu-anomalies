{
 "cells": [
  {
   "attachments": {},
   "cell_type": "markdown",
   "metadata": {},
   "source": [
    "## Детектирование аномалий: лабораторная работа \n",
    "#### Имя Фамилия, группа"
   ]
  },
  {
   "cell_type": "code",
   "execution_count": null,
   "metadata": {},
   "outputs": [],
   "source": [
    "import pandas as pd\n",
    "import numpy as np\n",
    "import matplotlib.pyplot as plt\n",
    "\n",
    "from sklearn.neighbors import kneighbors_graph\n",
    "from sklearn.cluster import AgglomerativeClustering\n",
    "from scipy.cluster.hierarchy import dendrogram"
   ]
  },
  {
   "cell_type": "code",
   "execution_count": null,
   "metadata": {},
   "outputs": [],
   "source": [
    "data = pd.read_csv('ecoli.csv')\n",
    "X = data.iloc[:, 1:-1]\n",
    "y = [int(elem in ['imL', 'omL']) for elem in data.SITE] #аномальные объекты"
   ]
  },
  {
   "attachments": {},
   "cell_type": "markdown",
   "metadata": {},
   "source": [
    "#### Задание 1, иерархическая кластеризация\n",
    "1. (1 балл) Постройте 4 дендрограммы для датасета Ecoli используя следующие методы вычисления расстояний: complete, ward, average и single. Отобразите на дендрограмме аномальные объекты. (хинт: https://scikit-learn.org/stable/auto_examples/cluster/plot_agglomerative_dendrogram.html)\n",
    "\n",
    "2. (1 балл) Предложите метод скоринга аномалий на основе результатов иерархической кластеризации (оцените \"аномальность\" каждого объекта)\n",
    "\n",
    "3. (1 балл) Какой из методов лучше подходит для детектирования указанных аномалий и почему?\n",
    "\n",
    "4. (1 балл) Почему построенные дендрограммы выглядят по-разному? Объясните основные различия в их форме"
   ]
  },
  {
   "attachments": {},
   "cell_type": "markdown",
   "metadata": {},
   "source": [
    "#### Задание 2, спектральная кластеризация\n",
    "( можно воспользоваться например этим туториалом https://juanitorduz.github.io/spectral_clustering/ , также хороший разбор темы представлен тут: http://www.tml.cs.uni-tuebingen.de/team/luxburg/publications/Luxburg07_tutorial.pdf ) \n",
    "\n",
    "1. (1 балл) Для датасета Ecoli постройте граф k ближайших соседей (выберите значение k) и его лапласиан\n",
    "\n",
    "2. (1 балл) Постройте график отсортированных собственных значений\n",
    "\n",
    "3. (2 балла) Какие выводы можно сделать из этого графика о числе кластеров в датасете Ecoli? Как влияет значение k на число кластеров?"
   ]
  }
 ],
 "metadata": {
  "kernelspec": {
   "display_name": "ismir2023",
   "language": "python",
   "name": "python3"
  },
  "language_info": {
   "codemirror_mode": {
    "name": "ipython",
    "version": 3
   },
   "file_extension": ".py",
   "mimetype": "text/x-python",
   "name": "python",
   "nbconvert_exporter": "python",
   "pygments_lexer": "ipython3",
   "version": "3.9.15"
  },
  "orig_nbformat": 4,
  "vscode": {
   "interpreter": {
    "hash": "1f3dee6325f8a100d67f78ccc6dc58c47f132e8fe0a7498cd35717b6b7737a63"
   }
  }
 },
 "nbformat": 4,
 "nbformat_minor": 2
}
