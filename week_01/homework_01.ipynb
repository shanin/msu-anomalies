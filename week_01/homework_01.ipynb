{
 "cells": [
  {
   "attachments": {},
   "cell_type": "markdown",
   "metadata": {},
   "source": [
    "## Детектирование аномалий: лабораторная работа 1"
   ]
  },
  {
   "attachments": {},
   "cell_type": "markdown",
   "metadata": {},
   "source": [
    "#### Имя Фамилия, группа"
   ]
  },
  {
   "cell_type": "code",
   "execution_count": 1,
   "metadata": {},
   "outputs": [],
   "source": [
    "import pandas as pd\n",
    "import numpy as np\n",
    "from scipy.io import loadmat\n",
    "import matplotlib.pyplot as plt\n",
    "from sklearn.neighbors import LocalOutlierFactor\n",
    "from sklearn.cluster import DBSCAN\n",
    "from sklearn.metrics import recall_score, precision_score, f1_score"
   ]
  },
  {
   "attachments": {},
   "cell_type": "markdown",
   "metadata": {},
   "source": [
    "Скачайте набор данных \"Thyroid\":\n",
    "http://odds.cs.stonybrook.edu/annthyroid-dataset/\n",
    "\n",
    "\n",
    "Этот набор данных уже предобработан для вас, другие версии датасета можно найти здесь:\n",
    "https://archive.ics.uci.edu/ml/datasets/thyroid+disease"
   ]
  },
  {
   "cell_type": "code",
   "execution_count": 2,
   "metadata": {},
   "outputs": [],
   "source": [
    "dataset = loadmat(\"annthyroid.mat\")\n",
    "X = pd.DataFrame(dataset['X'])\n",
    "y = pd.DataFrame(dataset['y'], columns = ['target'])"
   ]
  },
  {
   "cell_type": "code",
   "execution_count": 3,
   "metadata": {},
   "outputs": [
    {
     "data": {
      "text/html": [
       "<div>\n",
       "<style scoped>\n",
       "    .dataframe tbody tr th:only-of-type {\n",
       "        vertical-align: middle;\n",
       "    }\n",
       "\n",
       "    .dataframe tbody tr th {\n",
       "        vertical-align: top;\n",
       "    }\n",
       "\n",
       "    .dataframe thead th {\n",
       "        text-align: right;\n",
       "    }\n",
       "</style>\n",
       "<table border=\"1\" class=\"dataframe\">\n",
       "  <thead>\n",
       "    <tr style=\"text-align: right;\">\n",
       "      <th></th>\n",
       "      <th>0</th>\n",
       "      <th>1</th>\n",
       "      <th>2</th>\n",
       "      <th>3</th>\n",
       "      <th>4</th>\n",
       "      <th>5</th>\n",
       "    </tr>\n",
       "  </thead>\n",
       "  <tbody>\n",
       "    <tr>\n",
       "      <th>count</th>\n",
       "      <td>7200.000000</td>\n",
       "      <td>7200.000000</td>\n",
       "      <td>7200.000000</td>\n",
       "      <td>7200.000000</td>\n",
       "      <td>7200.000000</td>\n",
       "      <td>7200.000000</td>\n",
       "    </tr>\n",
       "    <tr>\n",
       "      <th>mean</th>\n",
       "      <td>0.520518</td>\n",
       "      <td>0.004861</td>\n",
       "      <td>0.019977</td>\n",
       "      <td>0.109430</td>\n",
       "      <td>0.097838</td>\n",
       "      <td>0.113215</td>\n",
       "    </tr>\n",
       "    <tr>\n",
       "      <th>std</th>\n",
       "      <td>0.189269</td>\n",
       "      <td>0.022979</td>\n",
       "      <td>0.007539</td>\n",
       "      <td>0.035969</td>\n",
       "      <td>0.019085</td>\n",
       "      <td>0.036098</td>\n",
       "    </tr>\n",
       "    <tr>\n",
       "      <th>min</th>\n",
       "      <td>0.010000</td>\n",
       "      <td>0.000000</td>\n",
       "      <td>0.000500</td>\n",
       "      <td>0.002000</td>\n",
       "      <td>0.017000</td>\n",
       "      <td>0.002000</td>\n",
       "    </tr>\n",
       "    <tr>\n",
       "      <th>25%</th>\n",
       "      <td>0.370000</td>\n",
       "      <td>0.000710</td>\n",
       "      <td>0.017000</td>\n",
       "      <td>0.089000</td>\n",
       "      <td>0.087000</td>\n",
       "      <td>0.095000</td>\n",
       "    </tr>\n",
       "    <tr>\n",
       "      <th>50%</th>\n",
       "      <td>0.550000</td>\n",
       "      <td>0.001700</td>\n",
       "      <td>0.020100</td>\n",
       "      <td>0.107000</td>\n",
       "      <td>0.097000</td>\n",
       "      <td>0.111000</td>\n",
       "    </tr>\n",
       "    <tr>\n",
       "      <th>75%</th>\n",
       "      <td>0.670000</td>\n",
       "      <td>0.002700</td>\n",
       "      <td>0.022000</td>\n",
       "      <td>0.125000</td>\n",
       "      <td>0.104000</td>\n",
       "      <td>0.127000</td>\n",
       "    </tr>\n",
       "    <tr>\n",
       "      <th>max</th>\n",
       "      <td>0.970000</td>\n",
       "      <td>0.530000</td>\n",
       "      <td>0.180000</td>\n",
       "      <td>0.600000</td>\n",
       "      <td>0.233000</td>\n",
       "      <td>0.642000</td>\n",
       "    </tr>\n",
       "  </tbody>\n",
       "</table>\n",
       "</div>"
      ],
      "text/plain": [
       "                 0            1            2            3            4  \\\n",
       "count  7200.000000  7200.000000  7200.000000  7200.000000  7200.000000   \n",
       "mean      0.520518     0.004861     0.019977     0.109430     0.097838   \n",
       "std       0.189269     0.022979     0.007539     0.035969     0.019085   \n",
       "min       0.010000     0.000000     0.000500     0.002000     0.017000   \n",
       "25%       0.370000     0.000710     0.017000     0.089000     0.087000   \n",
       "50%       0.550000     0.001700     0.020100     0.107000     0.097000   \n",
       "75%       0.670000     0.002700     0.022000     0.125000     0.104000   \n",
       "max       0.970000     0.530000     0.180000     0.600000     0.233000   \n",
       "\n",
       "                 5  \n",
       "count  7200.000000  \n",
       "mean      0.113215  \n",
       "std       0.036098  \n",
       "min       0.002000  \n",
       "25%       0.095000  \n",
       "50%       0.111000  \n",
       "75%       0.127000  \n",
       "max       0.642000  "
      ]
     },
     "execution_count": 3,
     "metadata": {},
     "output_type": "execute_result"
    }
   ],
   "source": [
    "X.describe()"
   ]
  },
  {
   "cell_type": "code",
   "execution_count": 4,
   "metadata": {},
   "outputs": [
    {
     "data": {
      "text/plain": [
       "(534, 6666)"
      ]
     },
     "execution_count": 4,
     "metadata": {},
     "output_type": "execute_result"
    }
   ],
   "source": [
    "len(y[y.target == 1]), len(y[y.target == 0])"
   ]
  },
  {
   "attachments": {},
   "cell_type": "markdown",
   "metadata": {},
   "source": [
    "### Задание 1\n",
    "1. (1 балл) Примените метод Local Outlier Factor для детектирования аномалий\n",
    "2. (1 балл) Постройте решающее правило для детектирования аномалий, выбрав порог для LOF\n",
    "3. (1 балл) Посчитайте precision, recall и f1-score для вашего решающего правила\n",
    "4. (1 балл) Обоснуйте выбор порога LOF"
   ]
  },
  {
   "attachments": {},
   "cell_type": "markdown",
   "metadata": {},
   "source": [
    "### Задание 2\n",
    "1. (1 балл) Примените метод DBSCAN для детектирования аномалий\n",
    "2. (1 балл) Посчитайте precision, recall и f1-score (класс \"-1\" считать аномальным)\n",
    "3. (1 балл) Попробуйте разные параметры для eps и min_samples, обоснуйте выбор параметров"
   ]
  },
  {
   "attachments": {},
   "cell_type": "markdown",
   "metadata": {},
   "source": [
    "### Бонусное задание\n",
    "1. (1 балл) выберите гиперпараметры так, чтобы получить наибольший f1-score среди ваших одногруппников"
   ]
  }
 ],
 "metadata": {
  "kernelspec": {
   "display_name": "ismir2023",
   "language": "python",
   "name": "python3"
  },
  "language_info": {
   "codemirror_mode": {
    "name": "ipython",
    "version": 3
   },
   "file_extension": ".py",
   "mimetype": "text/x-python",
   "name": "python",
   "nbconvert_exporter": "python",
   "pygments_lexer": "ipython3",
   "version": "3.9.15"
  },
  "orig_nbformat": 4,
  "vscode": {
   "interpreter": {
    "hash": "1f3dee6325f8a100d67f78ccc6dc58c47f132e8fe0a7498cd35717b6b7737a63"
   }
  }
 },
 "nbformat": 4,
 "nbformat_minor": 2
}
