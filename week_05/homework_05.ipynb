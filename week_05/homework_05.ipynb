{
 "cells": [
  {
   "attachments": {},
   "cell_type": "markdown",
   "metadata": {},
   "source": [
    "## Детектирование аномалий: лабораторная работа \n",
    "#### Имя Фамилия, группа"
   ]
  },
  {
   "cell_type": "code",
   "execution_count": 1,
   "metadata": {},
   "outputs": [],
   "source": [
    "import wfdb\n",
    "import matplotlib.pyplot as plt\n",
    "import numpy as np\n",
    "from librosa.sequence import dtw\n",
    "import scipy.signal as signal\n",
    "from sklearn.manifold import TSNE"
   ]
  },
  {
   "cell_type": "code",
   "execution_count": 2,
   "metadata": {},
   "outputs": [],
   "source": [
    "annotation = wfdb.rdann('mit-bih-arrhythmia-database-1.0.0/100', 'atr').__dict__\n",
    "data = wfdb.rdsamp('mit-bih-arrhythmia-database-1.0.0/100')[0][:,0]\n",
    "sample = np.array(annotation['sample'])\n",
    "labels = np.array(annotation['symbol'])"
   ]
  },
  {
   "attachments": {},
   "cell_type": "markdown",
   "metadata": {},
   "source": [
    "В этот раз у вас будет одно задание, но более длинное. Вам предлагается проанализировать кардиосигнал из датасета MIT BIH Arrhythmia. ( https://www.physionet.org/content/mitdb/1.0.0/ ). Данные представляют из себя длинный временной ряд с частотой дискретизации (sampling rate) 360 Гц. Кроме того, авторы датасета нашли пиковые значения сигнала, соответствующие зубцу \"R\" кардиограммы (подробнее о \"зубцах\" можете прочитать здесь: https://en.wikipedia.org/wiki/QRS_complex ). В sample хранится информация о координатах R-зубцов, в labels -- разметка, где \"N\" - означает нормальный сердечный ритм, а \"A\" - аномальный, вызванный сердечной аритмией. Посмотрим как это выглядит, на примере первых 10 секунд записи:"
   ]
  },
  {
   "cell_type": "code",
   "execution_count": null,
   "metadata": {},
   "outputs": [],
   "source": [
    "start = 0\n",
    "stop = 3600 #10 секунд\n",
    "y = labels[sample < stop]\n",
    "x = sample[sample < stop]\n",
    "\n",
    "y = y[x > start]\n",
    "x = x[x > start]\n",
    "\n",
    "x2 = x[y != 'N']\n",
    "x = x[y == 'N']\n",
    "\n",
    "plt.figure(figsize=(20,5))\n",
    "plt.plot(np.arange(start, stop), data[start:stop])\n",
    "plt.scatter(x, data[x])\n",
    "plt.scatter(x2, data[x2], alpha = 1)"
   ]
  },
  {
   "attachments": {},
   "cell_type": "markdown",
   "metadata": {},
   "source": [
    "Ваша задача - автоматически детектировать аномальные сердечные ритмы. Для этого вам нужно научиться считать попарные расстояния между сегментами сигнала с помощью алгоритма Dynamic Time Warping. Вам разрешается пользоваться координатами R-зубцов, но при анализе не разрешается пользоваться самой разметкой ('N' vs 'A').\n",
    "\n",
    "Задание 4.1 (2 балла): EDA и предобработка\n",
    "Визуализируйте данные для всех аномальных сердечных ритмов. Опишите, чем они отличаются от нормальных. Нуждаются ли данные в предобработке? Если да, то почему и в какой? Подсказка: https://www.youtube.com/watch?v=rRdmrY5e-N8 . Можете воспользоваться функцией remove_baseline_wandering или попробовать другие подходы. Визуализируйте результат."
   ]
  },
  {
   "cell_type": "code",
   "execution_count": null,
   "metadata": {},
   "outputs": [],
   "source": [
    "def remove_baseline_wandering(ecg_data, sampling_rate):\n",
    "    nyquist = 0.5 * sampling_rate\n",
    "    low = 0.5 / nyquist  # Low frequency cutoff (0.5 Hz)\n",
    "    b, a = signal.butter(1, low, btype='high')\n",
    "    filtered_ecg = signal.filtfilt(b, a, ecg_data)\n",
    "    return filtered_ecg"
   ]
  },
  {
   "attachments": {},
   "cell_type": "markdown",
   "metadata": {},
   "source": [
    "\n",
    "\n",
    "#### Задание 4.2 (2 балла)\n",
    "Разделите сигнал на сегменты, в качестве границ сегментов возьмите координаты, соответствующие детектированным \"пиковым\" значениям. Опробуйте метод DTW для выравнивания двух сегментов, когда (а) оба сегмента принадлежат классу 'N', (б) сегменты принадлежат разным классам. Визуализируйте результат (постройте на одних осях координат сигнал и выровненный на него другой сигнал). Приведите в явном виде \"стоимость\" выравнивания для пунктов (а) и (б). Можете воспользоваться готовой реализацией алгоритма DTW (например https://librosa.org/doc/main/generated/librosa.sequence.dtw.html ) или написать его сами (+1 балл). Предложите подходящее поточечное расстояние для оптимального нахождения спрямляющего пути (возможно, вы захотите по-разному сравнивать значения около нуля и около 1)"
   ]
  },
  {
   "attachments": {},
   "cell_type": "markdown",
   "metadata": {},
   "source": [
    "#### Задание 4.3 (2 балла).\n",
    "Постройте матрицу попарных расстояний между сегментами. Без оптимизации выполнение этой задачи может занять около часа! Можете ли вы как-либо ускорить время выполнения, наложив какие-либо ограничения на алгоритм? (+1 балл)"
   ]
  },
  {
   "attachments": {},
   "cell_type": "markdown",
   "metadata": {},
   "source": [
    "#### Задание 4.4 (2 балла)\n",
    "Пользуясь одним из методов детектирования аномалий, основанном на попарных расстояниях, оцените \"аномальность\" каждого сегмента. Интерпретируйте полученные результаты, используя ground-truth метки сегментов. Посчитайте качество детектирования аномалий."
   ]
  },
  {
   "attachments": {},
   "cell_type": "markdown",
   "metadata": {},
   "source": [
    "#### Задание 4.5 (2 балла)\n",
    "\n",
    "Используйте полученную ранее матрицу попарных расстояний в качестве инпута алгоритма t-SNE для визуализации данных (используйте plt.scatter). Отметьте на диаграмме аномальные элементы."
   ]
  }
 ],
 "metadata": {
  "kernelspec": {
   "display_name": "ismir2023 (python 3.9)",
   "language": "python",
   "name": "ismir2023"
  },
  "language_info": {
   "codemirror_mode": {
    "name": "ipython",
    "version": 3
   },
   "file_extension": ".py",
   "mimetype": "text/x-python",
   "name": "python",
   "nbconvert_exporter": "python",
   "pygments_lexer": "ipython3",
   "version": "3.9.15"
  },
  "orig_nbformat": 4
 },
 "nbformat": 4,
 "nbformat_minor": 2
}
